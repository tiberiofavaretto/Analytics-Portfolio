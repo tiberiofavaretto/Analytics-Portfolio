{
 "cells": [
  {
   "cell_type": "markdown",
   "id": "d5b56b2b",
   "metadata": {},
   "source": [
    "## Loading Dataset"
   ]
  },
  {
   "cell_type": "code",
   "execution_count": 1,
   "id": "cceb9291",
   "metadata": {},
   "outputs": [
    {
     "name": "stdout",
     "output_type": "stream",
     "text": [
      "   0                   1         2   3     4              5   6   \\\n",
      "0  61      Prof-specialty   Private  40     0      Bachelors  13   \n",
      "1  44     Exec-managerial   Private  40 -1902      Bachelors  13   \n",
      "2  18   Machine-op-inspct   Private  40     0        HS-grad   9   \n",
      "3  35        Craft-repair   Private  50     0   Some-college  10   \n",
      "4  41        Craft-repair   Private  40  2174        HS-grad   9   \n",
      "\n",
      "                    7           8       9        10                   11  \\\n",
      "0   Married-civ-spouse     Husband   White     Male        United-States   \n",
      "1   Married-civ-spouse     Husband   Black     Male        United-States   \n",
      "2        Never-married   Own-child   White   Female   Dominican-Republic   \n",
      "3   Married-civ-spouse     Husband   White     Male        United-States   \n",
      "4             Divorced   Unmarried   White     Male                Japan   \n",
      "\n",
      "       12  \n",
      "0   <=50K  \n",
      "1    >50K  \n",
      "2   <=50K  \n",
      "3    >50K  \n",
      "4   <=50K  \n"
     ]
    }
   ],
   "source": [
    "# importing packages\n",
    "import pandas as pd # data science essentials\n",
    "import matplotlib.pyplot as plt # data visualization essentials\n",
    "import seaborn as sns # enhanced data visualization\n",
    "import numpy as np\n",
    "\n",
    "# specifying the file\n",
    "file = './Team 2 - US Census Above 50k Predictor.csv'\n",
    "\n",
    "#converting the variables with missing values to strings\n",
    "data_types = {'Job' : str,\n",
    "             'Employment' : str,\n",
    "             'Nationality' : str}\n",
    "\n",
    "\n",
    "# reading the file into Python through pandas\n",
    "bbdd = pd.read_csv(file,\n",
    "                   header = None,\n",
    "                   na_values = ' ?',\n",
    "                   dtype = data_types)\n",
    "\n",
    "# printing the first 5 rows of the dataset\n",
    "print(bbdd.head(n = 5))"
   ]
  },
  {
   "cell_type": "code",
   "execution_count": 2,
   "id": "9aa3b5fa",
   "metadata": {},
   "outputs": [],
   "source": [
    "#renaming the columns\n",
    "census = bbdd.rename({\n",
    "    0: 'Age',\n",
    "    1: 'Job',\n",
    "    2: 'Employment',\n",
    "    3: 'Hours_per_week',\n",
    "    4: 'Capital_gain',\n",
    "    5: 'Level_of_education',\n",
    "    6: 'Years_of_education',\n",
    "    7: 'Relationship',\n",
    "    8: 'Family',\n",
    "    9: 'Race',\n",
    "    10: 'Gender',\n",
    "    11: 'Nationality',\n",
    "    12: 'Income'\n",
    "}, axis=1)"
   ]
  },
  {
   "cell_type": "code",
   "execution_count": 3,
   "id": "b6c0c33e",
   "metadata": {},
   "outputs": [
    {
     "name": "stdout",
     "output_type": "stream",
     "text": [
      "   Age                 Job Employment  Hours_per_week  Capital_gain  \\\n",
      "0   61      Prof-specialty    Private              40             0   \n",
      "1   44     Exec-managerial    Private              40         -1902   \n",
      "2   18   Machine-op-inspct    Private              40             0   \n",
      "3   35        Craft-repair    Private              50             0   \n",
      "4   41        Craft-repair    Private              40          2174   \n",
      "5   22        Tech-support    Private              40             0   \n",
      "6   28       Other-service    Private              40             0   \n",
      "7   28     Farming-fishing    Private              40             0   \n",
      "8   34     Farming-fishing    Private              50             0   \n",
      "9   30       Other-service    Private              40             0   \n",
      "\n",
      "  Level_of_education  Years_of_education         Relationship          Family  \\\n",
      "0          Bachelors                  13   Married-civ-spouse         Husband   \n",
      "1          Bachelors                  13   Married-civ-spouse         Husband   \n",
      "2            HS-grad                   9        Never-married       Own-child   \n",
      "3       Some-college                  10   Married-civ-spouse         Husband   \n",
      "4            HS-grad                   9             Divorced       Unmarried   \n",
      "5       Some-college                  10        Never-married   Not-in-family   \n",
      "6       Some-college                  10        Never-married   Not-in-family   \n",
      "7               12th                   8             Divorced   Not-in-family   \n",
      "8          Bachelors                  13   Married-civ-spouse         Husband   \n",
      "9               10th                   6             Divorced       Unmarried   \n",
      "\n",
      "     Race   Gender          Nationality  Income  \n",
      "0   White     Male        United-States   <=50K  \n",
      "1   Black     Male        United-States    >50K  \n",
      "2   White   Female   Dominican-Republic   <=50K  \n",
      "3   White     Male        United-States    >50K  \n",
      "4   White     Male                Japan   <=50K  \n",
      "5   White   Female        United-States   <=50K  \n",
      "6   Black     Male        United-States   <=50K  \n",
      "7   White     Male        United-States   <=50K  \n",
      "8   White     Male        United-States    >50K  \n",
      "9   White   Female        United-States   <=50K  \n"
     ]
    }
   ],
   "source": [
    "print(census.head(n = 10))"
   ]
  },
  {
   "cell_type": "code",
   "execution_count": 4,
   "id": "d913aeb3",
   "metadata": {
    "scrolled": true
   },
   "outputs": [
    {
     "name": "stdout",
     "output_type": "stream",
     "text": [
      "<class 'pandas.core.frame.DataFrame'>\n",
      "RangeIndex: 28244 entries, 0 to 28243\n",
      "Data columns (total 13 columns):\n",
      " #   Column              Non-Null Count  Dtype \n",
      "---  ------              --------------  ----- \n",
      " 0   Age                 28244 non-null  int64 \n",
      " 1   Job                 26740 non-null  object\n",
      " 2   Employment          26747 non-null  object\n",
      " 3   Hours_per_week      28244 non-null  int64 \n",
      " 4   Capital_gain        28244 non-null  int64 \n",
      " 5   Level_of_education  28244 non-null  object\n",
      " 6   Years_of_education  28244 non-null  int64 \n",
      " 7   Relationship        28244 non-null  object\n",
      " 8   Family              28244 non-null  object\n",
      " 9   Race                28244 non-null  object\n",
      " 10  Gender              28244 non-null  object\n",
      " 11  Nationality         27796 non-null  object\n",
      " 12  Income              28244 non-null  object\n",
      "dtypes: int64(4), object(9)\n",
      "memory usage: 2.8+ MB\n"
     ]
    }
   ],
   "source": [
    "#looking at the data type of each varible and the number of (non) null observations\n",
    "census.info()"
   ]
  },
  {
   "cell_type": "code",
   "execution_count": 5,
   "id": "672b7809",
   "metadata": {},
   "outputs": [
    {
     "name": "stdout",
     "output_type": "stream",
     "text": [
      "count    28244.00\n",
      "mean        40.44\n",
      "std         12.30\n",
      "min          1.00\n",
      "25%         40.00\n",
      "50%         40.00\n",
      "75%         45.00\n",
      "max         99.00\n",
      "Name: Hours_per_week, dtype: float64\n"
     ]
    },
    {
     "data": {
      "image/png": "[encoded data removed]",
      "text/plain": [
       "<Figure size 432x288 with 1 Axes>"
      ]
     },
     "metadata": {
      "needs_background": "light"
     },
     "output_type": "display_data"
    }
   ],
   "source": [
    "# descriptive statistics for not categorical variables\n",
    "# and graphical visualization\n",
    "print(census['Hours_per_week'].describe().round(2))\n",
    "\n",
    "# histogram for hours per week\n",
    "sns.histplot(data  = census,\n",
    "             x     ='Hours_per_week',\n",
    "             bins  = 'fd',\n",
    "             kde   = False,\n",
    "             color = 'black')\n",
    "\n",
    "\n",
    "# titles and axis labels\n",
    "plt.title(label = \"Hours per week variable\")\n",
    "plt.xlabel(xlabel = 'Hours')\n",
    "plt.ylabel(ylabel = 'Frequency')\n",
    "\n",
    "# these compile and display the plot so that it is formatted as expected\n",
    "plt.tight_layout()\n",
    "plt.show()"
   ]
  },
  {
   "cell_type": "code",
   "execution_count": 6,
   "id": "c9f1650c",
   "metadata": {},
   "outputs": [
    {
     "name": "stdout",
     "output_type": "stream",
     "text": [
      "count    28244.00\n",
      "mean        38.56\n",
      "std         13.63\n",
      "min         17.00\n",
      "25%         28.00\n",
      "50%         37.00\n",
      "75%         48.00\n",
      "max         90.00\n",
      "Name: Age, dtype: float64\n"
     ]
    },
    {
     "data": {
      "image/png": "[encoded data removed]",
      "text/plain": [
       "<Figure size 432x288 with 1 Axes>"
      ]
     },
     "metadata": {
      "needs_background": "light"
     },
     "output_type": "display_data"
    }
   ],
   "source": [
    "# descriptive statistics for not categorical variables\n",
    "# and graphical visualization\n",
    "print(census['Age'].describe().round(2))\n",
    "\n",
    "# histogram for age\n",
    "sns.histplot(data  = census,\n",
    "             x     ='Age',\n",
    "             bins  = 'fd',\n",
    "             kde   = False,\n",
    "             color = 'black')\n",
    "\n",
    "\n",
    "# titles and axis labels\n",
    "plt.title(label = \"Age variable\")\n",
    "plt.xlabel(xlabel = 'Age in years')\n",
    "plt.ylabel(ylabel = 'Frequency')\n",
    "\n",
    "# these compile and display the plot so that it is formatted as expected\n",
    "plt.tight_layout()\n",
    "plt.show()"
   ]
  },
  {
   "cell_type": "code",
   "execution_count": 7,
   "id": "e3b7f4d2",
   "metadata": {},
   "outputs": [
    {
     "name": "stdout",
     "output_type": "stream",
     "text": [
      "count    28244.00\n",
      "mean       979.33\n",
      "std       7339.03\n",
      "min      -4356.00\n",
      "25%          0.00\n",
      "50%          0.00\n",
      "75%          0.00\n",
      "max      99999.00\n",
      "Name: Capital_gain, dtype: float64\n"
     ]
    },
    {
     "data": {
      "image/png": "[encoded data removed]",
      "text/plain": [
       "<Figure size 432x288 with 1 Axes>"
      ]
     },
     "metadata": {
      "needs_background": "light"
     },
     "output_type": "display_data"
    }
   ],
   "source": [
    "# descriptive statistics for not categorical variables\n",
    "# and graphical visualization\n",
    "print(census['Capital_gain'].describe().round(2))\n",
    "\n",
    "# histogram for capital gain\n",
    "sns.histplot(data  = census,\n",
    "             x     ='Capital_gain',\n",
    "             bins  = 10,\n",
    "             kde   = False,\n",
    "             color = 'black')\n",
    "\n",
    "\n",
    "# titles and axis labels\n",
    "plt.title(label = \"Capital gain variable\")\n",
    "plt.xlabel(xlabel = 'Value of capital gain')\n",
    "plt.ylabel(ylabel = 'Frequency')\n",
    "\n",
    "# these compile and display the plot so that it is formatted as expected\n",
    "plt.tight_layout()\n",
    "plt.show()"
   ]
  },
  {
   "cell_type": "code",
   "execution_count": 8,
   "id": "8a34eeb6",
   "metadata": {},
   "outputs": [
    {
     "name": "stdout",
     "output_type": "stream",
     "text": [
      "count    28244.00\n",
      "mean        10.08\n",
      "std          2.57\n",
      "min          1.00\n",
      "25%          9.00\n",
      "50%         10.00\n",
      "75%         12.00\n",
      "max         16.00\n",
      "Name: Years_of_education, dtype: float64\n"
     ]
    },
    {
     "data": {
      "image/png": "[encoded data removed]",
      "text/plain": [
       "<Figure size 432x288 with 1 Axes>"
      ]
     },
     "metadata": {
      "needs_background": "light"
     },
     "output_type": "display_data"
    }
   ],
   "source": [
    "# descriptive statistics for not categorical variables\n",
    "# and graphical visualization\n",
    "print(census['Years_of_education'].describe().round(2))\n",
    "\n",
    "# histogram for years of education\n",
    "sns.histplot(data  = census,\n",
    "             x     ='Years_of_education',\n",
    "             bins  = 'fd',\n",
    "             kde   = False,\n",
    "             color = 'black')\n",
    "\n",
    "\n",
    "# titles and axis labels\n",
    "plt.title(label = \"Years of education variable\")\n",
    "plt.xlabel(xlabel = 'Years')\n",
    "plt.ylabel(ylabel = 'Frequency')\n",
    "\n",
    "# these compile and display the plot so that it is formatted as expected\n",
    "plt.tight_layout()\n",
    "plt.show()"
   ]
  },
  {
   "cell_type": "code",
   "execution_count": 9,
   "id": "834fc4ed",
   "metadata": {
    "scrolled": true
   },
   "outputs": [
    {
     "data": {
      "text/plain": [
       " Prof-specialty       3603\n",
       " Craft-repair         3568\n",
       " Exec-managerial      3514\n",
       " Adm-clerical         3272\n",
       " Sales                3208\n",
       " Other-service        2894\n",
       " Machine-op-inspct    1735\n",
       " Transport-moving     1378\n",
       " Handlers-cleaners    1187\n",
       " Farming-fishing       862\n",
       " Tech-support          813\n",
       " Protective-serv       568\n",
       " Priv-house-serv       129\n",
       " Armed-Forces            9\n",
       "Name: Job, dtype: int64"
      ]
     },
     "execution_count": 9,
     "metadata": {},
     "output_type": "execute_result"
    }
   ],
   "source": [
    "#frequency of each of each categorical values\n",
    "census['Job'].value_counts()"
   ]
  },
  {
   "cell_type": "code",
   "execution_count": 10,
   "id": "0f547798",
   "metadata": {},
   "outputs": [
    {
     "data": {
      "text/plain": [
       " Private             19758\n",
       " Self-emp-not-inc     2219\n",
       " Local-gov            1811\n",
       " State-gov            1125\n",
       " Self-emp-inc          962\n",
       " Federal-gov           853\n",
       " Without-pay            12\n",
       " Never-worked            7\n",
       "Name: Employment, dtype: int64"
      ]
     },
     "execution_count": 10,
     "metadata": {},
     "output_type": "execute_result"
    }
   ],
   "source": [
    "#frequency of each of each categorical values\n",
    "census['Employment'].value_counts()"
   ]
  },
  {
   "cell_type": "code",
   "execution_count": 11,
   "id": "bbbd0f8d",
   "metadata": {},
   "outputs": [
    {
     "data": {
      "text/plain": [
       " HS-grad         9103\n",
       " Some-college    6334\n",
       " Bachelors       4656\n",
       " Masters         1475\n",
       " Assoc-voc       1194\n",
       " 11th            1022\n",
       " Assoc-acdm       921\n",
       " 10th             821\n",
       " 7th-8th          558\n",
       " Prof-school      507\n",
       " 9th              450\n",
       " 12th             378\n",
       " Doctorate        349\n",
       " 5th-6th          286\n",
       " 1st-4th          148\n",
       " Preschool         42\n",
       "Name: Level_of_education, dtype: int64"
      ]
     },
     "execution_count": 11,
     "metadata": {},
     "output_type": "execute_result"
    }
   ],
   "source": [
    "#frequency of each of each categorical values\n",
    "census['Level_of_education'].value_counts()"
   ]
  },
  {
   "cell_type": "code",
   "execution_count": 12,
   "id": "7e9d28dd",
   "metadata": {},
   "outputs": [
    {
     "data": {
      "text/plain": [
       " Married-civ-spouse       13034\n",
       " Never-married             9211\n",
       " Divorced                  3865\n",
       " Separated                  895\n",
       " Widowed                    862\n",
       " Married-spouse-absent      359\n",
       " Married-AF-spouse           18\n",
       "Name: Relationship, dtype: int64"
      ]
     },
     "execution_count": 12,
     "metadata": {},
     "output_type": "execute_result"
    }
   ],
   "source": [
    "#frequency of each of each categorical values\n",
    "census['Relationship'].value_counts()"
   ]
  },
  {
   "cell_type": "code",
   "execution_count": 13,
   "id": "806c8222",
   "metadata": {},
   "outputs": [
    {
     "data": {
      "text/plain": [
       " Husband           11478\n",
       " Not-in-family      7221\n",
       " Own-child          4351\n",
       " Unmarried          2975\n",
       " Wife               1362\n",
       " Other-relative      857\n",
       "Name: Family, dtype: int64"
      ]
     },
     "execution_count": 13,
     "metadata": {},
     "output_type": "execute_result"
    }
   ],
   "source": [
    "#frequency of each of each categorical values\n",
    "census['Family'].value_counts()"
   ]
  },
  {
   "cell_type": "code",
   "execution_count": 14,
   "id": "038bee12",
   "metadata": {},
   "outputs": [
    {
     "data": {
      "text/plain": [
       " White                 24141\n",
       " Black                  2703\n",
       " Asian-Pac-Islander      898\n",
       " Amer-Indian-Eskimo      268\n",
       " Other                   234\n",
       "Name: Race, dtype: int64"
      ]
     },
     "execution_count": 14,
     "metadata": {},
     "output_type": "execute_result"
    }
   ],
   "source": [
    "#frequency of each of each categorical values\n",
    "census['Race'].value_counts()"
   ]
  },
  {
   "cell_type": "code",
   "execution_count": 15,
   "id": "bdcb3b44",
   "metadata": {},
   "outputs": [
    {
     "data": {
      "text/plain": [
       " Male      18894\n",
       " Female     9350\n",
       "Name: Gender, dtype: int64"
      ]
     },
     "execution_count": 15,
     "metadata": {},
     "output_type": "execute_result"
    }
   ],
   "source": [
    "#frequency of each of each categorical values\n",
    "census['Gender'].value_counts()"
   ]
  },
  {
   "cell_type": "code",
   "execution_count": 16,
   "id": "8b2e3c09",
   "metadata": {
    "scrolled": true
   },
   "outputs": [
    {
     "data": {
      "text/plain": [
       " United-States                 25333\n",
       " Mexico                          564\n",
       " Philippines                     169\n",
       " Germany                         117\n",
       " Canada                          106\n",
       " Puerto-Rico                     101\n",
       " El-Salvador                      96\n",
       " India                            86\n",
       " England                          84\n",
       " Cuba                             83\n",
       " Jamaica                          73\n",
       " South                            68\n",
       " China                            67\n",
       " Dominican-Republic               63\n",
       " Guatemala                        61\n",
       " Italy                            61\n",
       " Vietnam                          59\n",
       " Japan                            54\n",
       " Poland                           53\n",
       " Columbia                         51\n",
       " Taiwan                           43\n",
       " Haiti                            38\n",
       " Iran                             35\n",
       " Portugal                         34\n",
       " Nicaragua                        31\n",
       " Greece                           26\n",
       " Peru                             26\n",
       " France                           25\n",
       " Ecuador                          22\n",
       " Ireland                          22\n",
       " Hong                             19\n",
       " Trinadad&Tobago                  18\n",
       " Cambodia                         18\n",
       " Laos                             16\n",
       " Thailand                         15\n",
       " Yugoslavia                       14\n",
       " Scotland                         12\n",
       " Hungary                          12\n",
       " Outlying-US(Guam-USVI-etc)       12\n",
       " Honduras                          9\n",
       "Name: Nationality, dtype: int64"
      ]
     },
     "execution_count": 16,
     "metadata": {},
     "output_type": "execute_result"
    }
   ],
   "source": [
    "#frequency of each of each categorical values\n",
    "census['Nationality'].value_counts()"
   ]
  },
  {
   "cell_type": "code",
   "execution_count": 17,
   "id": "5d142821",
   "metadata": {},
   "outputs": [
    {
     "data": {
      "text/plain": [
       " <=50K    21426\n",
       " >50K      6818\n",
       "Name: Income, dtype: int64"
      ]
     },
     "execution_count": 17,
     "metadata": {},
     "output_type": "execute_result"
    }
   ],
   "source": [
    "#frequency of each of each categorical values\n",
    "census['Income'].value_counts()"
   ]
  },
  {
   "cell_type": "markdown",
   "id": "a33f3542",
   "metadata": {},
   "source": [
    "## Treating of the missing values"
   ]
  },
  {
   "cell_type": "code",
   "execution_count": 18,
   "id": "68416a25",
   "metadata": {},
   "outputs": [
    {
     "data": {
      "text/plain": [
       "Age                      0\n",
       "Job                   1504\n",
       "Employment            1497\n",
       "Hours_per_week           0\n",
       "Capital_gain             0\n",
       "Level_of_education       0\n",
       "Years_of_education       0\n",
       "Relationship             0\n",
       "Family                   0\n",
       "Race                     0\n",
       "Gender                   0\n",
       "Nationality            448\n",
       "Income                   0\n",
       "dtype: int64"
      ]
     },
     "execution_count": 18,
     "metadata": {},
     "output_type": "execute_result"
    }
   ],
   "source": [
    "#looking for the number of missing values in each variable\n",
    "census.isnull().sum(axis = 0)"
   ]
  },
  {
   "cell_type": "code",
   "execution_count": 19,
   "id": "658ec56b",
   "metadata": {},
   "outputs": [],
   "source": [
    "#creating a new variable with the mode to replace the missing values\n",
    "job_mode = census['Job'].mode()\n",
    "# job_mode = str(job_mode)\n",
    "\n",
    "census['Job'] = census['Job'].fillna(value = job_mode[0])"
   ]
  },
  {
   "cell_type": "code",
   "execution_count": 21,
   "id": "ceedbf70",
   "metadata": {},
   "outputs": [],
   "source": [
    "#creating a new variable with the mode to replace the missing values\n",
    "employment_mode = census['Employment'].mode()\n",
    "# employment_mode = str(employment_mode)\n",
    "\n",
    "census['Employment'] = census['Employment'].fillna(value = employment_mode[0])"
   ]
  },
  {
   "cell_type": "code",
   "execution_count": 23,
   "id": "3857285b",
   "metadata": {},
   "outputs": [],
   "source": [
    "#creating a new variable with the mode to replace the missing values\n",
    "nationality_mode = census['Nationality'].mode()\n",
    "# nationality_mode = str(nationality_mode)\n",
    "\n",
    "census['Nationality'] = census['Nationality'].fillna(value = nationality_mode[0])"
   ]
  },
  {
   "cell_type": "code",
   "execution_count": 25,
   "id": "373344d3",
   "metadata": {},
   "outputs": [
    {
     "data": {
      "text/plain": [
       "Age                   False\n",
       "Job                   False\n",
       "Employment            False\n",
       "Hours_per_week        False\n",
       "Capital_gain          False\n",
       "Level_of_education    False\n",
       "Years_of_education    False\n",
       "Relationship          False\n",
       "Family                False\n",
       "Race                  False\n",
       "Gender                False\n",
       "Nationality           False\n",
       "Income                False\n",
       "dtype: bool"
      ]
     },
     "execution_count": 25,
     "metadata": {},
     "output_type": "execute_result"
    }
   ],
   "source": [
    "#checking if we correctly replaced all missing values\n",
    "census.isnull().any()"
   ]
  },
  {
   "cell_type": "markdown",
   "id": "fa375b8c",
   "metadata": {},
   "source": [
    "## Subgroups"
   ]
  },
  {
   "cell_type": "code",
   "execution_count": 26,
   "id": "b1362d2a",
   "metadata": {},
   "outputs": [],
   "source": [
    "#creating a copy of the dataset\n",
    "census_df = pd.DataFrame.copy(census)"
   ]
  },
  {
   "cell_type": "code",
   "execution_count": 27,
   "id": "51bdab94",
   "metadata": {},
   "outputs": [
    {
     "name": "stdout",
     "output_type": "stream",
     "text": [
      " United-States    25781\n",
      " Other             2463\n",
      "Name: Nationality, dtype: int64\n"
     ]
    }
   ],
   "source": [
    "#grouping some values inside the categorical variables to have less unique values\n",
    "for country in census_df['Nationality']:\n",
    "    if country != ' United-States':\n",
    "        census_df['Nationality'] = census_df['Nationality'].replace(country, \" Other\")"
   ]
  },
  {
   "cell_type": "code",
   "execution_count": 28,
   "id": "42d9dbc5",
   "metadata": {},
   "outputs": [],
   "source": [
    "#grouping some values inside the categorical variables to have less unique values\n",
    "for married in census_df['Relationship']:\n",
    "    if(married == \" Married-civ-spouse\" or married == \" Married-spouse-absent\" or married == \" Married-AF-spouse\"):\n",
    "        census_df['Relationship'] = census_df['Relationship'].replace(married, \" Married\")\n",
    "    elif(married == \" Divorced\" or married == \" Separated\" or married == \" Widowed\"):\n",
    "        census_df['Relationship'] = census_df['Relationship'].replace(married, \" Divorced_or_separated_widowed\")"
   ]
  },
  {
   "cell_type": "code",
   "execution_count": 29,
   "id": "b0ed8ed3",
   "metadata": {},
   "outputs": [],
   "source": [
    "#grouping some values inside the categorical variables to have less unique values\n",
    "census_df['Race'].replace({\" Amer-Indian-Eskimo\": \" Other\"}, inplace=True)\n",
    "\n",
    "for race in census_df['Race']:\n",
    "    if(race == \" Amer-Indian-Eskimo\" or race == \" Black\" or race == \" Asian-Pac-Islander\" or race == \" Amer-Indian-Eskimo\" or race == \" Other\"):\n",
    "        census_df['Race'] = census_df['Race'].replace(race, ' Not-white')"
   ]
  },
  {
   "cell_type": "code",
   "execution_count": 30,
   "id": "fa7e842f",
   "metadata": {},
   "outputs": [
    {
     "name": "stdout",
     "output_type": "stream",
     "text": [
      " Married           12840\n",
      " Not-in-family      7221\n",
      " Own-child          4351\n",
      " Unmarried          2975\n",
      " Other-relative      857\n",
      "Name: Family, dtype: int64\n"
     ]
    }
   ],
   "source": [
    "#grouping some values inside the categorical variables to have less unique values\n",
    "for mr in census_df['Family']:\n",
    "    if(mr == \" Husband\" or mr == \" Wife\"):\n",
    "        census_df['Family'] = census_df['Family'].replace(mr, \" Married\")"
   ]
  },
  {
   "cell_type": "code",
   "execution_count": 31,
   "id": "27cd6619",
   "metadata": {},
   "outputs": [
    {
     "name": "stdout",
     "output_type": "stream",
     "text": [
      " Private             21255\n",
      " Gov                  3789\n",
      " Self                 3181\n",
      " Not_Contributing       19\n",
      "Name: Employment, dtype: int64\n"
     ]
    }
   ],
   "source": [
    "#grouping some values inside the categorical variables to have less unique values\n",
    "for gov in census_df['Employment']:\n",
    "    if(gov == \" Local-gov\" or gov == \" Federal-gov\" or gov == \" State-gov\"):\n",
    "        census_df['Employment'] = census_df['Employment'].replace(gov, \" Gov\")\n",
    "    elif(gov == \" Self-emp-inc\" or gov == \" Self-emp-not-inc\"):\n",
    "        census_df['Employment'] = census_df['Employment'].replace(gov, \" Self\")\n",
    "    elif(gov == \" Without-pay\" or gov == \" Never-worked\"):\n",
    "        census_df['Employment'] = census_df['Employment'].replace(gov, \" Not_Contributing\")\n",
    "        "
   ]
  },
  {
   "cell_type": "code",
   "execution_count": 32,
   "id": "69b4fca7",
   "metadata": {},
   "outputs": [
    {
     "name": "stdout",
     "output_type": "stream",
     "text": [
      " Job_Unskilled    12699\n",
      " Job_Skilled      12642\n",
      " Other_Job         2903\n",
      "Name: Job, dtype: int64\n"
     ]
    }
   ],
   "source": [
    "#grouping some values inside the categorical variables to have less unique values\n",
    "for jb in census_df['Job']:\n",
    "    if(jb == \" Other-service\" or jb == \" Armed-Forces\"):\n",
    "        census_df['Job'] = census_df['Job'].replace(jb, \" Other_Job\")\n",
    "    elif(jb == \" Priv-house-serv\"):\n",
    "        census_df['Job'] = census_df['Job'].replace(jb, \" Handlers-cleaners\")\n",
    "    elif (jb == \" Adm-clerical\" or jb == \" Craft-repair\" or jb == \" Farming-fishing\" or jb == \" Handlers-cleaners\" or jb == \" Machine-op-inspct\" or jb == \" Protective-serv\" or jb == \" Transport-moving\"):\n",
    "        census_df['Job'] = census_df['Job'].replace(jb, \" Job_Unskilled\")\n",
    "    elif (jb == \" Prof-specialty\" or jb == \" Exec-managerial\" or jb == \" Sales\" or jb == \" Tech-support\"):\n",
    "        census_df['Job'] = census_df['Job'].replace(jb, \" Job_Skilled\")\n",
    "        "
   ]
  },
  {
   "cell_type": "code",
   "execution_count": 33,
   "id": "825622a3",
   "metadata": {},
   "outputs": [
    {
     "name": "stdout",
     "output_type": "stream",
     "text": [
      " High_education       22208\n",
      " Low_education         3705\n",
      " Highest_education     2331\n",
      "Name: Level_of_education, dtype: int64\n"
     ]
    }
   ],
   "source": [
    "#grouping some values inside the categorical variables to have less unique values\n",
    "census_df['Level_of_education'].replace({\" Preschool\": \" Low_education\",\" 1st-4th\": \" Low_education\",\" 5th-6th\": \" Low_education\",\" 7th-8th\": \" Low_education\",\" 9th\": \" Low_education\",\" 10th\": \" Low_education\",\" 11th\": \" Low_education\",\" 12th\": \" Low_education\"}, inplace=True)\n",
    "census_df['Level_of_education'].replace({\" Assoc-acdm\": \" High_education\",\" Assoc-voc\": \" High_education\"}, inplace=True)\n",
    "census_df['Level_of_education'].replace({\" HS-grad\": \" High_education\", \" Some-college\": \" High_education\", \" Bachelors\": \" High_education\"}, inplace=True)\n",
    "census_df['Level_of_education'].replace({\" Masters\": \" Highest_education\",\" Doctorate\": \" Highest_education\", \" Prof-school\": \" Highest_education\"}, inplace=True)\n",
    "\n"
   ]
  },
  {
   "cell_type": "markdown",
   "id": "f202da51",
   "metadata": {},
   "source": [
    "## Splitting the data into training and testing sets"
   ]
  },
  {
   "cell_type": "code",
   "execution_count": 34,
   "id": "0613db19",
   "metadata": {},
   "outputs": [],
   "source": [
    "# importing package\n",
    "from sklearn.model_selection import train_test_split"
   ]
  },
  {
   "cell_type": "code",
   "execution_count": 35,
   "id": "c096df4e",
   "metadata": {},
   "outputs": [],
   "source": [
    "#creating new dataset\n",
    "y = census_df"
   ]
  },
  {
   "cell_type": "code",
   "execution_count": 36,
   "id": "a2cb2e70",
   "metadata": {},
   "outputs": [],
   "source": [
    "#defining the variables\n",
    "label = 'Income'\n",
    "features = [column for column in y.columns if column != label]\n",
    "X = y[features]\n",
    "Y = y[label]"
   ]
  },
  {
   "cell_type": "code",
   "execution_count": 37,
   "id": "2327e140",
   "metadata": {},
   "outputs": [],
   "source": [
    "# preparing training and testing sets \n",
    "train_features, test_features, train_y, test_y = train_test_split(X,Y, shuffle=True, test_size=0.3, random_state=0)"
   ]
  },
  {
   "cell_type": "code",
   "execution_count": 40,
   "id": "def836c2",
   "metadata": {},
   "outputs": [],
   "source": [
    "# merging train_features and train_y so that they can be used in statsmodels\n",
    "train = pd.concat([train_features, train_y], axis = 1)\n",
    "\n",
    "# merging test_features and test_y so that they can be used in statsmodels\n",
    "test = pd.concat([test_features, test_y], axis = 1)"
   ]
  },
  {
   "cell_type": "markdown",
   "id": "444ca6ac",
   "metadata": {},
   "source": [
    "## Transforming the categorical variables into dummies"
   ]
  },
  {
   "cell_type": "code",
   "execution_count": 41,
   "id": "ef6f645b",
   "metadata": {},
   "outputs": [],
   "source": [
    "#Transforming the categorical variables into dummies for the train set\n",
    "train = pd.get_dummies(train)"
   ]
  },
  {
   "cell_type": "code",
   "execution_count": 43,
   "id": "b9fd5301",
   "metadata": {},
   "outputs": [],
   "source": [
    "#Transforming the categorical variables into dummies for the test set\n",
    "test = pd.get_dummies(test)"
   ]
  },
  {
   "cell_type": "markdown",
   "id": "c1a81357",
   "metadata": {},
   "source": [
    "### Dropping dummies to avoid multicollinearity"
   ]
  },
  {
   "cell_type": "code",
   "execution_count": 45,
   "id": "b8376a41",
   "metadata": {},
   "outputs": [],
   "source": [
    "# dropping the a dummy column for each variable\n",
    "train = train.drop(columns=['Job_ Other_Job','Employment_ Not_Contributing','Level_of_education_ Low_education','Relationship_ Never-married','Family_ Not-in-family','Race_ Not-white','Gender_ Female','Nationality_ Other','Income_ <=50K'])"
   ]
  },
  {
   "cell_type": "code",
   "execution_count": 46,
   "id": "17e57784",
   "metadata": {
    "scrolled": true
   },
   "outputs": [],
   "source": [
    "# dropping a dummy column for each variable\n",
    "test = test.drop(columns=['Job_ Other_Job','Employment_ Not_Contributing','Level_of_education_ Low_education','Relationship_ Never-married','Family_ Not-in-family','Race_ Not-white','Gender_ Female','Nationality_ Other','Income_ <=50K'])"
   ]
  },
  {
   "cell_type": "markdown",
   "id": "0cf42f06",
   "metadata": {},
   "source": [
    "## Saving sets as Excel files"
   ]
  },
  {
   "cell_type": "code",
   "execution_count": 47,
   "id": "304d67a3",
   "metadata": {},
   "outputs": [],
   "source": [
    "# writing the excel files\n",
    "train.to_excel(excel_writer = \"train.xlsx\",\n",
    "                    index        = False)\n",
    "\n",
    "test.to_excel(excel_writer = \"test.xlsx\",\n",
    "                    index        = False)"
   ]
  }
 ],
 "metadata": {
  "kernelspec": {
   "display_name": "Python 3 (ipykernel)",
   "language": "python",
   "name": "python3"
  },
  "language_info": {
   "codemirror_mode": {
    "name": "ipython",
    "version": 3
   },
   "file_extension": ".py",
   "mimetype": "text/x-python",
   "name": "python",
   "nbconvert_exporter": "python",
   "pygments_lexer": "ipython3",
   "version": "3.8.8"
  },
  "toc": {
   "base_numbering": 1,
   "nav_menu": {},
   "number_sections": true,
   "sideBar": true,
   "skip_h1_title": false,
   "title_cell": "Table of Contents",
   "title_sidebar": "Contents",
   "toc_cell": false,
   "toc_position": {},
   "toc_section_display": true,
   "toc_window_display": false
  },
  "varInspector": {
   "cols": {
    "lenName": 16,
    "lenType": 16,
    "lenVar": 40
   },
   "kernels_config": {
    "python": {
     "delete_cmd_postfix": "",
     "delete_cmd_prefix": "del ",
     "library": "var_list.py",
     "varRefreshCmd": "print(var_dic_list())"
    },
    "r": {
     "delete_cmd_postfix": ") ",
     "delete_cmd_prefix": "rm(",
     "library": "var_list.r",
     "varRefreshCmd": "cat(var_dic_list()) "
    }
   },
   "types_to_exclude": [
    "module",
    "function",
    "builtin_function_or_method",
    "instance",
    "_Feature"
   ],
   "window_display": false
  }
 },
 "nbformat": 4,
 "nbformat_minor": 5
}
